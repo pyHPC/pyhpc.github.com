{
 "metadata": {
  "name": ""
 },
 "nbformat": 3,
 "nbformat_minor": 0,
 "worksheets": [
  {
   "cells": [
    {
     "cell_type": "heading",
     "level": 1,
     "metadata": {},
     "source": [
      "Demo 2 of Pandas"
     ]
    },
    {
     "cell_type": "markdown",
     "metadata": {},
     "source": [
      "The goal of this exercise is to give you some intuition surrounding pandas dataframes, even though you don't know much about them. Observe some of the practical things you can do with dataframes, and we'll cover them in depth after this exercise."
     ]
    },
    {
     "cell_type": "heading",
     "level": 3,
     "metadata": {},
     "source": [
      "Part 1 -- DataFrame"
     ]
    },
    {
     "cell_type": "markdown",
     "metadata": {},
     "source": [
      "Let's construct a dataframe"
     ]
    },
    {
     "cell_type": "code",
     "collapsed": false,
     "input": [
      "import pandas as pd\n",
      "import numpy as np"
     ],
     "language": "python",
     "metadata": {},
     "outputs": [],
     "prompt_number": 2
    },
    {
     "cell_type": "code",
     "collapsed": false,
     "input": [
      "mydf = pd.DataFrame({'a' : np.random.random(5), 'number 2' : np.random.random(5)})"
     ],
     "language": "python",
     "metadata": {},
     "outputs": [],
     "prompt_number": 3
    },
    {
     "cell_type": "code",
     "collapsed": false,
     "input": [
      "mydf"
     ],
     "language": "python",
     "metadata": {},
     "outputs": [
      {
       "html": [
        "<div style=\"max-height:1000px;max-width:1500px;overflow:auto;\">\n",
        "<table border=\"1\" class=\"dataframe\">\n",
        "  <thead>\n",
        "    <tr style=\"text-align: right;\">\n",
        "      <th></th>\n",
        "      <th>a</th>\n",
        "      <th>number 2</th>\n",
        "    </tr>\n",
        "  </thead>\n",
        "  <tbody>\n",
        "    <tr>\n",
        "      <th>0</th>\n",
        "      <td> 0.516260</td>\n",
        "      <td> 0.810635</td>\n",
        "    </tr>\n",
        "    <tr>\n",
        "      <th>1</th>\n",
        "      <td> 0.581012</td>\n",
        "      <td> 0.003966</td>\n",
        "    </tr>\n",
        "    <tr>\n",
        "      <th>2</th>\n",
        "      <td> 0.994886</td>\n",
        "      <td> 0.160952</td>\n",
        "    </tr>\n",
        "    <tr>\n",
        "      <th>3</th>\n",
        "      <td> 0.886446</td>\n",
        "      <td> 0.543988</td>\n",
        "    </tr>\n",
        "    <tr>\n",
        "      <th>4</th>\n",
        "      <td> 0.897070</td>\n",
        "      <td> 0.510951</td>\n",
        "    </tr>\n",
        "  </tbody>\n",
        "</table>\n",
        "</div>"
       ],
       "metadata": {},
       "output_type": "pyout",
       "prompt_number": 4,
       "text": [
        "          a  number 2\n",
        "0  0.516260  0.810635\n",
        "1  0.581012  0.003966\n",
        "2  0.994886  0.160952\n",
        "3  0.886446  0.543988\n",
        "4  0.897070  0.510951"
       ]
      }
     ],
     "prompt_number": 4
    },
    {
     "cell_type": "markdown",
     "metadata": {},
     "source": [
      "Try selecting the columns using attribute, vs getitem notation \".a\" vs \"['a']\". Notice how you cannot do that with column \"number 2\", since \"number 2\" is not a valid python variable name."
     ]
    },
    {
     "cell_type": "markdown",
     "metadata": {},
     "source": [
      "Pull out both columns 'a', and `number 2`, and inspect their types. They both have indexes which are similar, use the \"is\" operator to verify whether or not they are the same object."
     ]
    },
    {
     "cell_type": "code",
     "collapsed": false,
     "input": [
      "type(mydf.a)"
     ],
     "language": "python",
     "metadata": {},
     "outputs": [
      {
       "metadata": {},
       "output_type": "pyout",
       "prompt_number": 5,
       "text": [
        "pandas.core.series.Series"
       ]
      }
     ],
     "prompt_number": 5
    },
    {
     "cell_type": "code",
     "collapsed": false,
     "input": [
      "mydf.a.index is mydf['number 2'].index"
     ],
     "language": "python",
     "metadata": {},
     "outputs": [
      {
       "metadata": {},
       "output_type": "pyout",
       "prompt_number": 7,
       "text": [
        "True"
       ]
      }
     ],
     "prompt_number": 7
    },
    {
     "cell_type": "markdown",
     "metadata": {},
     "source": [
      "Try constructing some dataframes using nested dictionaries. What happens when the keys do not match?"
     ]
    },
    {
     "cell_type": "code",
     "collapsed": false,
     "input": [
      "mydf = pd.DataFrame({'a' : dict(d=1, e=2, f=3), 'b' : dict(d=2, e=2, f=3)})"
     ],
     "language": "python",
     "metadata": {},
     "outputs": [],
     "prompt_number": 9
    },
    {
     "cell_type": "code",
     "collapsed": false,
     "input": [
      "mydf"
     ],
     "language": "python",
     "metadata": {},
     "outputs": [
      {
       "html": [
        "<div style=\"max-height:1000px;max-width:1500px;overflow:auto;\">\n",
        "<table border=\"1\" class=\"dataframe\">\n",
        "  <thead>\n",
        "    <tr style=\"text-align: right;\">\n",
        "      <th></th>\n",
        "      <th>a</th>\n",
        "      <th>b</th>\n",
        "    </tr>\n",
        "  </thead>\n",
        "  <tbody>\n",
        "    <tr>\n",
        "      <th>d</th>\n",
        "      <td> 1</td>\n",
        "      <td> 2</td>\n",
        "    </tr>\n",
        "    <tr>\n",
        "      <th>e</th>\n",
        "      <td> 2</td>\n",
        "      <td> 2</td>\n",
        "    </tr>\n",
        "    <tr>\n",
        "      <th>f</th>\n",
        "      <td> 3</td>\n",
        "      <td> 3</td>\n",
        "    </tr>\n",
        "  </tbody>\n",
        "</table>\n",
        "</div>"
       ],
       "metadata": {},
       "output_type": "pyout",
       "prompt_number": 10,
       "text": [
        "   a  b\n",
        "d  1  2\n",
        "e  2  2\n",
        "f  3  3"
       ]
      }
     ],
     "prompt_number": 10
    },
    {
     "cell_type": "code",
     "collapsed": false,
     "input": [
      "mydf = pd.DataFrame({'a' : dict(d=1, e=2, f=3), 'b' : dict(d=2, e=2, g=3)})"
     ],
     "language": "python",
     "metadata": {},
     "outputs": [],
     "prompt_number": 11
    },
    {
     "cell_type": "code",
     "collapsed": false,
     "input": [
      "mydf"
     ],
     "language": "python",
     "metadata": {},
     "outputs": [
      {
       "html": [
        "<div style=\"max-height:1000px;max-width:1500px;overflow:auto;\">\n",
        "<table border=\"1\" class=\"dataframe\">\n",
        "  <thead>\n",
        "    <tr style=\"text-align: right;\">\n",
        "      <th></th>\n",
        "      <th>a</th>\n",
        "      <th>b</th>\n",
        "    </tr>\n",
        "  </thead>\n",
        "  <tbody>\n",
        "    <tr>\n",
        "      <th>d</th>\n",
        "      <td>  1</td>\n",
        "      <td>  2</td>\n",
        "    </tr>\n",
        "    <tr>\n",
        "      <th>e</th>\n",
        "      <td>  2</td>\n",
        "      <td>  2</td>\n",
        "    </tr>\n",
        "    <tr>\n",
        "      <th>f</th>\n",
        "      <td>  3</td>\n",
        "      <td>NaN</td>\n",
        "    </tr>\n",
        "    <tr>\n",
        "      <th>g</th>\n",
        "      <td>NaN</td>\n",
        "      <td>  3</td>\n",
        "    </tr>\n",
        "  </tbody>\n",
        "</table>\n",
        "</div>"
       ],
       "metadata": {},
       "output_type": "pyout",
       "prompt_number": 12,
       "text": [
        "    a   b\n",
        "d   1   2\n",
        "e   2   2\n",
        "f   3 NaN\n",
        "g NaN   3"
       ]
      }
     ],
     "prompt_number": 12
    },
    {
     "cell_type": "heading",
     "level": 3,
     "metadata": {},
     "source": [
      "Part 2 -- slicing DataFrames"
     ]
    },
    {
     "cell_type": "markdown",
     "metadata": {},
     "source": [
      "Generate the following example dataframe"
     ]
    },
    {
     "cell_type": "code",
     "collapsed": false,
     "input": [
      "mydf = pd.DataFrame({'a' : np.random.random(10), 'b':np.random.random(10), 'c' : np.random.random(10)})"
     ],
     "language": "python",
     "metadata": {},
     "outputs": [],
     "prompt_number": 13
    },
    {
     "cell_type": "code",
     "collapsed": false,
     "input": [
      "mydf"
     ],
     "language": "python",
     "metadata": {},
     "outputs": [
      {
       "html": [
        "<div style=\"max-height:1000px;max-width:1500px;overflow:auto;\">\n",
        "<table border=\"1\" class=\"dataframe\">\n",
        "  <thead>\n",
        "    <tr style=\"text-align: right;\">\n",
        "      <th></th>\n",
        "      <th>a</th>\n",
        "      <th>b</th>\n",
        "      <th>c</th>\n",
        "    </tr>\n",
        "  </thead>\n",
        "  <tbody>\n",
        "    <tr>\n",
        "      <th>0</th>\n",
        "      <td> 0.551267</td>\n",
        "      <td> 0.308023</td>\n",
        "      <td> 0.191852</td>\n",
        "    </tr>\n",
        "    <tr>\n",
        "      <th>1</th>\n",
        "      <td> 0.618068</td>\n",
        "      <td> 0.968867</td>\n",
        "      <td> 0.865826</td>\n",
        "    </tr>\n",
        "    <tr>\n",
        "      <th>2</th>\n",
        "      <td> 0.351901</td>\n",
        "      <td> 0.019066</td>\n",
        "      <td> 0.702435</td>\n",
        "    </tr>\n",
        "    <tr>\n",
        "      <th>3</th>\n",
        "      <td> 0.405087</td>\n",
        "      <td> 0.779772</td>\n",
        "      <td> 0.186351</td>\n",
        "    </tr>\n",
        "    <tr>\n",
        "      <th>4</th>\n",
        "      <td> 0.930516</td>\n",
        "      <td> 0.687207</td>\n",
        "      <td> 0.300342</td>\n",
        "    </tr>\n",
        "    <tr>\n",
        "      <th>5</th>\n",
        "      <td> 0.058512</td>\n",
        "      <td> 0.781672</td>\n",
        "      <td> 0.323624</td>\n",
        "    </tr>\n",
        "    <tr>\n",
        "      <th>6</th>\n",
        "      <td> 0.679320</td>\n",
        "      <td> 0.827225</td>\n",
        "      <td> 0.030353</td>\n",
        "    </tr>\n",
        "    <tr>\n",
        "      <th>7</th>\n",
        "      <td> 0.434738</td>\n",
        "      <td> 0.157592</td>\n",
        "      <td> 0.683666</td>\n",
        "    </tr>\n",
        "    <tr>\n",
        "      <th>8</th>\n",
        "      <td> 0.423316</td>\n",
        "      <td> 0.393697</td>\n",
        "      <td> 0.992008</td>\n",
        "    </tr>\n",
        "    <tr>\n",
        "      <th>9</th>\n",
        "      <td> 0.905374</td>\n",
        "      <td> 0.656394</td>\n",
        "      <td> 0.956230</td>\n",
        "    </tr>\n",
        "  </tbody>\n",
        "</table>\n",
        "</div>"
       ],
       "metadata": {},
       "output_type": "pyout",
       "prompt_number": 14,
       "text": [
        "          a         b         c\n",
        "0  0.551267  0.308023  0.191852\n",
        "1  0.618068  0.968867  0.865826\n",
        "2  0.351901  0.019066  0.702435\n",
        "3  0.405087  0.779772  0.186351\n",
        "4  0.930516  0.687207  0.300342\n",
        "5  0.058512  0.781672  0.323624\n",
        "6  0.679320  0.827225  0.030353\n",
        "7  0.434738  0.157592  0.683666\n",
        "8  0.423316  0.393697  0.992008\n",
        "9  0.905374  0.656394  0.956230"
       ]
      }
     ],
     "prompt_number": 14
    },
    {
     "cell_type": "markdown",
     "metadata": {},
     "source": [
      "Try a few operations on the dataframe, without using 'ix': \n",
      "\n",
      "  + select a single value from column a\n",
      "  + slice a few values from column b\n",
      "  + slice a few rows from the whole dataframe\n",
      "  + subselect a few columns from the DataFrame by passing in a list of column names\n",
      "  + slice a few rows, and then select a few columns from that output"
     ]
    },
    {
     "cell_type": "code",
     "collapsed": false,
     "input": [
      "mydf.a[1]"
     ],
     "language": "python",
     "metadata": {},
     "outputs": [
      {
       "metadata": {},
       "output_type": "pyout",
       "prompt_number": 15,
       "text": [
        "0.61806759745111095"
       ]
      }
     ],
     "prompt_number": 15
    },
    {
     "cell_type": "code",
     "collapsed": false,
     "input": [
      "mydf['b'][1]"
     ],
     "language": "python",
     "metadata": {},
     "outputs": [
      {
       "metadata": {},
       "output_type": "pyout",
       "prompt_number": 16,
       "text": [
        "0.96886715313503302"
       ]
      }
     ],
     "prompt_number": 16
    },
    {
     "cell_type": "code",
     "collapsed": false,
     "input": [
      "mydf[2:4]"
     ],
     "language": "python",
     "metadata": {},
     "outputs": [
      {
       "html": [
        "<div style=\"max-height:1000px;max-width:1500px;overflow:auto;\">\n",
        "<table border=\"1\" class=\"dataframe\">\n",
        "  <thead>\n",
        "    <tr style=\"text-align: right;\">\n",
        "      <th></th>\n",
        "      <th>a</th>\n",
        "      <th>b</th>\n",
        "      <th>c</th>\n",
        "    </tr>\n",
        "  </thead>\n",
        "  <tbody>\n",
        "    <tr>\n",
        "      <th>2</th>\n",
        "      <td> 0.351901</td>\n",
        "      <td> 0.019066</td>\n",
        "      <td> 0.702435</td>\n",
        "    </tr>\n",
        "    <tr>\n",
        "      <th>3</th>\n",
        "      <td> 0.405087</td>\n",
        "      <td> 0.779772</td>\n",
        "      <td> 0.186351</td>\n",
        "    </tr>\n",
        "  </tbody>\n",
        "</table>\n",
        "</div>"
       ],
       "metadata": {},
       "output_type": "pyout",
       "prompt_number": 17,
       "text": [
        "          a         b         c\n",
        "2  0.351901  0.019066  0.702435\n",
        "3  0.405087  0.779772  0.186351"
       ]
      }
     ],
     "prompt_number": 17
    },
    {
     "cell_type": "code",
     "collapsed": false,
     "input": [
      "mydf[['b', 'c']]"
     ],
     "language": "python",
     "metadata": {},
     "outputs": [
      {
       "html": [
        "<div style=\"max-height:1000px;max-width:1500px;overflow:auto;\">\n",
        "<table border=\"1\" class=\"dataframe\">\n",
        "  <thead>\n",
        "    <tr style=\"text-align: right;\">\n",
        "      <th></th>\n",
        "      <th>b</th>\n",
        "      <th>c</th>\n",
        "    </tr>\n",
        "  </thead>\n",
        "  <tbody>\n",
        "    <tr>\n",
        "      <th>0</th>\n",
        "      <td> 0.308023</td>\n",
        "      <td> 0.191852</td>\n",
        "    </tr>\n",
        "    <tr>\n",
        "      <th>1</th>\n",
        "      <td> 0.968867</td>\n",
        "      <td> 0.865826</td>\n",
        "    </tr>\n",
        "    <tr>\n",
        "      <th>2</th>\n",
        "      <td> 0.019066</td>\n",
        "      <td> 0.702435</td>\n",
        "    </tr>\n",
        "    <tr>\n",
        "      <th>3</th>\n",
        "      <td> 0.779772</td>\n",
        "      <td> 0.186351</td>\n",
        "    </tr>\n",
        "    <tr>\n",
        "      <th>4</th>\n",
        "      <td> 0.687207</td>\n",
        "      <td> 0.300342</td>\n",
        "    </tr>\n",
        "    <tr>\n",
        "      <th>5</th>\n",
        "      <td> 0.781672</td>\n",
        "      <td> 0.323624</td>\n",
        "    </tr>\n",
        "    <tr>\n",
        "      <th>6</th>\n",
        "      <td> 0.827225</td>\n",
        "      <td> 0.030353</td>\n",
        "    </tr>\n",
        "    <tr>\n",
        "      <th>7</th>\n",
        "      <td> 0.157592</td>\n",
        "      <td> 0.683666</td>\n",
        "    </tr>\n",
        "    <tr>\n",
        "      <th>8</th>\n",
        "      <td> 0.393697</td>\n",
        "      <td> 0.992008</td>\n",
        "    </tr>\n",
        "    <tr>\n",
        "      <th>9</th>\n",
        "      <td> 0.656394</td>\n",
        "      <td> 0.956230</td>\n",
        "    </tr>\n",
        "  </tbody>\n",
        "</table>\n",
        "</div>"
       ],
       "metadata": {},
       "output_type": "pyout",
       "prompt_number": 18,
       "text": [
        "          b         c\n",
        "0  0.308023  0.191852\n",
        "1  0.968867  0.865826\n",
        "2  0.019066  0.702435\n",
        "3  0.779772  0.186351\n",
        "4  0.687207  0.300342\n",
        "5  0.781672  0.323624\n",
        "6  0.827225  0.030353\n",
        "7  0.157592  0.683666\n",
        "8  0.393697  0.992008\n",
        "9  0.656394  0.956230"
       ]
      }
     ],
     "prompt_number": 18
    },
    {
     "cell_type": "code",
     "collapsed": false,
     "input": [
      "mydf[:3][['b', 'c']]"
     ],
     "language": "python",
     "metadata": {},
     "outputs": [
      {
       "html": [
        "<div style=\"max-height:1000px;max-width:1500px;overflow:auto;\">\n",
        "<table border=\"1\" class=\"dataframe\">\n",
        "  <thead>\n",
        "    <tr style=\"text-align: right;\">\n",
        "      <th></th>\n",
        "      <th>b</th>\n",
        "      <th>c</th>\n",
        "    </tr>\n",
        "  </thead>\n",
        "  <tbody>\n",
        "    <tr>\n",
        "      <th>0</th>\n",
        "      <td> 0.308023</td>\n",
        "      <td> 0.191852</td>\n",
        "    </tr>\n",
        "    <tr>\n",
        "      <th>1</th>\n",
        "      <td> 0.968867</td>\n",
        "      <td> 0.865826</td>\n",
        "    </tr>\n",
        "    <tr>\n",
        "      <th>2</th>\n",
        "      <td> 0.019066</td>\n",
        "      <td> 0.702435</td>\n",
        "    </tr>\n",
        "  </tbody>\n",
        "</table>\n",
        "</div>"
       ],
       "metadata": {},
       "output_type": "pyout",
       "prompt_number": 19,
       "text": [
        "          b         c\n",
        "0  0.308023  0.191852\n",
        "1  0.968867  0.865826\n",
        "2  0.019066  0.702435"
       ]
      }
     ],
     "prompt_number": 19
    },
    {
     "cell_type": "heading",
     "level": 3,
     "metadata": {},
     "source": [
      "Part 3 -- slicing DataFrames with ix"
     ]
    },
    {
     "cell_type": "code",
     "collapsed": false,
     "input": [
      "mydf = pd.DataFrame({'a' : np.random.random(5), 'b':np.random.random(5), 'c' : np.random.random(5)}, index=['one', 'two', 'three', 'four', 'five'])"
     ],
     "language": "python",
     "metadata": {},
     "outputs": [],
     "prompt_number": 21
    },
    {
     "cell_type": "code",
     "collapsed": false,
     "input": [
      "mydf"
     ],
     "language": "python",
     "metadata": {},
     "outputs": [
      {
       "html": [
        "<div style=\"max-height:1000px;max-width:1500px;overflow:auto;\">\n",
        "<table border=\"1\" class=\"dataframe\">\n",
        "  <thead>\n",
        "    <tr style=\"text-align: right;\">\n",
        "      <th></th>\n",
        "      <th>a</th>\n",
        "      <th>b</th>\n",
        "      <th>c</th>\n",
        "    </tr>\n",
        "  </thead>\n",
        "  <tbody>\n",
        "    <tr>\n",
        "      <th>one</th>\n",
        "      <td> 0.841527</td>\n",
        "      <td> 0.057006</td>\n",
        "      <td> 0.941141</td>\n",
        "    </tr>\n",
        "    <tr>\n",
        "      <th>two</th>\n",
        "      <td> 0.102353</td>\n",
        "      <td> 0.880911</td>\n",
        "      <td> 0.256098</td>\n",
        "    </tr>\n",
        "    <tr>\n",
        "      <th>three</th>\n",
        "      <td> 0.443856</td>\n",
        "      <td> 0.392379</td>\n",
        "      <td> 0.572175</td>\n",
        "    </tr>\n",
        "    <tr>\n",
        "      <th>four</th>\n",
        "      <td> 0.298304</td>\n",
        "      <td> 0.187898</td>\n",
        "      <td> 0.822521</td>\n",
        "    </tr>\n",
        "    <tr>\n",
        "      <th>five</th>\n",
        "      <td> 0.997743</td>\n",
        "      <td> 0.584361</td>\n",
        "      <td> 0.373044</td>\n",
        "    </tr>\n",
        "  </tbody>\n",
        "</table>\n",
        "</div>"
       ],
       "metadata": {},
       "output_type": "pyout",
       "prompt_number": 22,
       "text": [
        "              a         b         c\n",
        "one    0.841527  0.057006  0.941141\n",
        "two    0.102353  0.880911  0.256098\n",
        "three  0.443856  0.392379  0.572175\n",
        "four   0.298304  0.187898  0.822521\n",
        "five   0.997743  0.584361  0.373044"
       ]
      }
     ],
     "prompt_number": 22
    },
    {
     "cell_type": "markdown",
     "metadata": {},
     "source": [
      "+ select a single row using an integer, \"mydf.ix[1]\"\n",
      "+ select a single row using a string, \"mydf.ix['two']\"\n",
      "+ select a slice using rowlabels, everything from \"two\" to \"four\". Is this inclusive or exclusive?\n",
      "+ Redo the selection you just did, but pick out columns b and c.\n",
      "+ Can you re-order colums b and c?\n",
      "+ Can you re-order rows 'two' and 'four'?"
     ]
    },
    {
     "cell_type": "code",
     "collapsed": false,
     "input": [
      "mydf.ix[1]"
     ],
     "language": "python",
     "metadata": {},
     "outputs": [
      {
       "metadata": {},
       "output_type": "pyout",
       "prompt_number": 23,
       "text": [
        "a    0.102353\n",
        "b    0.880911\n",
        "c    0.256098\n",
        "Name: two, dtype: float64"
       ]
      }
     ],
     "prompt_number": 23
    },
    {
     "cell_type": "code",
     "collapsed": false,
     "input": [
      "mydf.ix['two':'four']"
     ],
     "language": "python",
     "metadata": {},
     "outputs": [
      {
       "html": [
        "<div style=\"max-height:1000px;max-width:1500px;overflow:auto;\">\n",
        "<table border=\"1\" class=\"dataframe\">\n",
        "  <thead>\n",
        "    <tr style=\"text-align: right;\">\n",
        "      <th></th>\n",
        "      <th>a</th>\n",
        "      <th>b</th>\n",
        "      <th>c</th>\n",
        "    </tr>\n",
        "  </thead>\n",
        "  <tbody>\n",
        "    <tr>\n",
        "      <th>two</th>\n",
        "      <td> 0.102353</td>\n",
        "      <td> 0.880911</td>\n",
        "      <td> 0.256098</td>\n",
        "    </tr>\n",
        "    <tr>\n",
        "      <th>three</th>\n",
        "      <td> 0.443856</td>\n",
        "      <td> 0.392379</td>\n",
        "      <td> 0.572175</td>\n",
        "    </tr>\n",
        "    <tr>\n",
        "      <th>four</th>\n",
        "      <td> 0.298304</td>\n",
        "      <td> 0.187898</td>\n",
        "      <td> 0.822521</td>\n",
        "    </tr>\n",
        "  </tbody>\n",
        "</table>\n",
        "</div>"
       ],
       "metadata": {},
       "output_type": "pyout",
       "prompt_number": 25,
       "text": [
        "              a         b         c\n",
        "two    0.102353  0.880911  0.256098\n",
        "three  0.443856  0.392379  0.572175\n",
        "four   0.298304  0.187898  0.822521"
       ]
      }
     ],
     "prompt_number": 25
    },
    {
     "cell_type": "code",
     "collapsed": false,
     "input": [
      "mydf.ix[('two':'four', ['b', 'c'])]"
     ],
     "language": "python",
     "metadata": {},
     "outputs": [
      {
       "html": [
        "<div style=\"max-height:1000px;max-width:1500px;overflow:auto;\">\n",
        "<table border=\"1\" class=\"dataframe\">\n",
        "  <thead>\n",
        "    <tr style=\"text-align: right;\">\n",
        "      <th></th>\n",
        "      <th>b</th>\n",
        "      <th>c</th>\n",
        "    </tr>\n",
        "  </thead>\n",
        "  <tbody>\n",
        "    <tr>\n",
        "      <th>two</th>\n",
        "      <td> 0.880911</td>\n",
        "      <td> 0.256098</td>\n",
        "    </tr>\n",
        "    <tr>\n",
        "      <th>three</th>\n",
        "      <td> 0.392379</td>\n",
        "      <td> 0.572175</td>\n",
        "    </tr>\n",
        "    <tr>\n",
        "      <th>four</th>\n",
        "      <td> 0.187898</td>\n",
        "      <td> 0.822521</td>\n",
        "    </tr>\n",
        "  </tbody>\n",
        "</table>\n",
        "</div>"
       ],
       "metadata": {},
       "output_type": "pyout",
       "prompt_number": 26,
       "text": [
        "              b         c\n",
        "two    0.880911  0.256098\n",
        "three  0.392379  0.572175\n",
        "four   0.187898  0.822521"
       ]
      }
     ],
     "prompt_number": 26
    },
    {
     "cell_type": "code",
     "collapsed": false,
     "input": [
      "mydf.ix['two':'four', 'b':'c']"
     ],
     "language": "python",
     "metadata": {},
     "outputs": [
      {
       "html": [
        "<div style=\"max-height:1000px;max-width:1500px;overflow:auto;\">\n",
        "<table border=\"1\" class=\"dataframe\">\n",
        "  <thead>\n",
        "    <tr style=\"text-align: right;\">\n",
        "      <th></th>\n",
        "      <th>b</th>\n",
        "      <th>c</th>\n",
        "    </tr>\n",
        "  </thead>\n",
        "  <tbody>\n",
        "    <tr>\n",
        "      <th>two</th>\n",
        "      <td> 0.880911</td>\n",
        "      <td> 0.256098</td>\n",
        "    </tr>\n",
        "    <tr>\n",
        "      <th>three</th>\n",
        "      <td> 0.392379</td>\n",
        "      <td> 0.572175</td>\n",
        "    </tr>\n",
        "    <tr>\n",
        "      <th>four</th>\n",
        "      <td> 0.187898</td>\n",
        "      <td> 0.822521</td>\n",
        "    </tr>\n",
        "  </tbody>\n",
        "</table>\n",
        "</div>"
       ],
       "metadata": {},
       "output_type": "pyout",
       "prompt_number": 27,
       "text": [
        "              b         c\n",
        "two    0.880911  0.256098\n",
        "three  0.392379  0.572175\n",
        "four   0.187898  0.822521"
       ]
      }
     ],
     "prompt_number": 27
    },
    {
     "cell_type": "code",
     "collapsed": false,
     "input": [
      "mydf.ix['two':'four', ['b', 'c']]"
     ],
     "language": "python",
     "metadata": {},
     "outputs": [
      {
       "html": [
        "<div style=\"max-height:1000px;max-width:1500px;overflow:auto;\">\n",
        "<table border=\"1\" class=\"dataframe\">\n",
        "  <thead>\n",
        "    <tr style=\"text-align: right;\">\n",
        "      <th></th>\n",
        "      <th>b</th>\n",
        "      <th>c</th>\n",
        "    </tr>\n",
        "  </thead>\n",
        "  <tbody>\n",
        "    <tr>\n",
        "      <th>two</th>\n",
        "      <td> 0.880911</td>\n",
        "      <td> 0.256098</td>\n",
        "    </tr>\n",
        "    <tr>\n",
        "      <th>three</th>\n",
        "      <td> 0.392379</td>\n",
        "      <td> 0.572175</td>\n",
        "    </tr>\n",
        "    <tr>\n",
        "      <th>four</th>\n",
        "      <td> 0.187898</td>\n",
        "      <td> 0.822521</td>\n",
        "    </tr>\n",
        "  </tbody>\n",
        "</table>\n",
        "</div>"
       ],
       "metadata": {},
       "output_type": "pyout",
       "prompt_number": 28,
       "text": [
        "              b         c\n",
        "two    0.880911  0.256098\n",
        "three  0.392379  0.572175\n",
        "four   0.187898  0.822521"
       ]
      }
     ],
     "prompt_number": 28
    },
    {
     "cell_type": "code",
     "collapsed": false,
     "input": [
      "mydf.ix[['four', 'two'], ['b', 'c']]"
     ],
     "language": "python",
     "metadata": {},
     "outputs": [
      {
       "html": [
        "<div style=\"max-height:1000px;max-width:1500px;overflow:auto;\">\n",
        "<table border=\"1\" class=\"dataframe\">\n",
        "  <thead>\n",
        "    <tr style=\"text-align: right;\">\n",
        "      <th></th>\n",
        "      <th>b</th>\n",
        "      <th>c</th>\n",
        "    </tr>\n",
        "  </thead>\n",
        "  <tbody>\n",
        "    <tr>\n",
        "      <th>four</th>\n",
        "      <td> 0.187898</td>\n",
        "      <td> 0.822521</td>\n",
        "    </tr>\n",
        "    <tr>\n",
        "      <th>two</th>\n",
        "      <td> 0.880911</td>\n",
        "      <td> 0.256098</td>\n",
        "    </tr>\n",
        "  </tbody>\n",
        "</table>\n",
        "</div>"
       ],
       "metadata": {},
       "output_type": "pyout",
       "prompt_number": 29,
       "text": [
        "             b         c\n",
        "four  0.187898  0.822521\n",
        "two   0.880911  0.256098"
       ]
      }
     ],
     "prompt_number": 29
    },
    {
     "cell_type": "heading",
     "level": 3,
     "metadata": {},
     "source": [
      "Part 4 --- re-indexing, setting the index"
     ]
    },
    {
     "cell_type": "code",
     "collapsed": false,
     "input": [
      "mydf = pd.DataFrame({'a' : np.random.random(5), 'b':np.random.random(5), 'c' : np.random.random(5)}, index=['one', 'two', 'three', 'four', 'five'])"
     ],
     "language": "python",
     "metadata": {},
     "outputs": [],
     "prompt_number": 30
    },
    {
     "cell_type": "code",
     "collapsed": false,
     "input": [
      "mydf"
     ],
     "language": "python",
     "metadata": {},
     "outputs": [
      {
       "html": [
        "<div style=\"max-height:1000px;max-width:1500px;overflow:auto;\">\n",
        "<table border=\"1\" class=\"dataframe\">\n",
        "  <thead>\n",
        "    <tr style=\"text-align: right;\">\n",
        "      <th></th>\n",
        "      <th>a</th>\n",
        "      <th>b</th>\n",
        "      <th>c</th>\n",
        "    </tr>\n",
        "  </thead>\n",
        "  <tbody>\n",
        "    <tr>\n",
        "      <th>one</th>\n",
        "      <td> 0.203531</td>\n",
        "      <td> 0.325360</td>\n",
        "      <td> 0.894829</td>\n",
        "    </tr>\n",
        "    <tr>\n",
        "      <th>two</th>\n",
        "      <td> 0.930065</td>\n",
        "      <td> 0.301969</td>\n",
        "      <td> 0.094213</td>\n",
        "    </tr>\n",
        "    <tr>\n",
        "      <th>three</th>\n",
        "      <td> 0.552838</td>\n",
        "      <td> 0.409216</td>\n",
        "      <td> 0.199148</td>\n",
        "    </tr>\n",
        "    <tr>\n",
        "      <th>four</th>\n",
        "      <td> 0.337302</td>\n",
        "      <td> 0.878127</td>\n",
        "      <td> 0.169430</td>\n",
        "    </tr>\n",
        "    <tr>\n",
        "      <th>five</th>\n",
        "      <td> 0.933750</td>\n",
        "      <td> 0.463585</td>\n",
        "      <td> 0.178078</td>\n",
        "    </tr>\n",
        "  </tbody>\n",
        "</table>\n",
        "</div>"
       ],
       "metadata": {},
       "output_type": "pyout",
       "prompt_number": 31,
       "text": [
        "              a         b         c\n",
        "one    0.203531  0.325360  0.894829\n",
        "two    0.930065  0.301969  0.094213\n",
        "three  0.552838  0.409216  0.199148\n",
        "four   0.337302  0.878127  0.169430\n",
        "five   0.933750  0.463585  0.178078"
       ]
      }
     ],
     "prompt_number": 31
    },
    {
     "cell_type": "markdown",
     "metadata": {},
     "source": [
      "+ We want to set the index to [1,2,3,4,5]. Try calling reindex with that argument. what happens (hint, it does not work!). Fortunately, this does not default to inplace modification, so you still have your existing dataframe.\n",
      "+ call reindex with ['one', 'two', 'foo'], and look at the result. Do you understand what reindex does now?\n",
      "+ What you really want in this case is set_index. set_index is setup to take column names. call set_index with (['a', 'b'])"
     ]
    },
    {
     "cell_type": "code",
     "collapsed": false,
     "input": [
      "mydf.reindex([1,2,3,4,5])"
     ],
     "language": "python",
     "metadata": {},
     "outputs": [
      {
       "html": [
        "<div style=\"max-height:1000px;max-width:1500px;overflow:auto;\">\n",
        "<table border=\"1\" class=\"dataframe\">\n",
        "  <thead>\n",
        "    <tr style=\"text-align: right;\">\n",
        "      <th></th>\n",
        "      <th>a</th>\n",
        "      <th>b</th>\n",
        "      <th>c</th>\n",
        "    </tr>\n",
        "  </thead>\n",
        "  <tbody>\n",
        "    <tr>\n",
        "      <th>1</th>\n",
        "      <td>NaN</td>\n",
        "      <td>NaN</td>\n",
        "      <td>NaN</td>\n",
        "    </tr>\n",
        "    <tr>\n",
        "      <th>2</th>\n",
        "      <td>NaN</td>\n",
        "      <td>NaN</td>\n",
        "      <td>NaN</td>\n",
        "    </tr>\n",
        "    <tr>\n",
        "      <th>3</th>\n",
        "      <td>NaN</td>\n",
        "      <td>NaN</td>\n",
        "      <td>NaN</td>\n",
        "    </tr>\n",
        "    <tr>\n",
        "      <th>4</th>\n",
        "      <td>NaN</td>\n",
        "      <td>NaN</td>\n",
        "      <td>NaN</td>\n",
        "    </tr>\n",
        "    <tr>\n",
        "      <th>5</th>\n",
        "      <td>NaN</td>\n",
        "      <td>NaN</td>\n",
        "      <td>NaN</td>\n",
        "    </tr>\n",
        "  </tbody>\n",
        "</table>\n",
        "</div>"
       ],
       "metadata": {},
       "output_type": "pyout",
       "prompt_number": 32,
       "text": [
        "    a   b   c\n",
        "1 NaN NaN NaN\n",
        "2 NaN NaN NaN\n",
        "3 NaN NaN NaN\n",
        "4 NaN NaN NaN\n",
        "5 NaN NaN NaN"
       ]
      }
     ],
     "prompt_number": 32
    },
    {
     "cell_type": "code",
     "collapsed": false,
     "input": [
      "mydf.reindex(['one','two','foo'])"
     ],
     "language": "python",
     "metadata": {},
     "outputs": [
      {
       "html": [
        "<div style=\"max-height:1000px;max-width:1500px;overflow:auto;\">\n",
        "<table border=\"1\" class=\"dataframe\">\n",
        "  <thead>\n",
        "    <tr style=\"text-align: right;\">\n",
        "      <th></th>\n",
        "      <th>a</th>\n",
        "      <th>b</th>\n",
        "      <th>c</th>\n",
        "    </tr>\n",
        "  </thead>\n",
        "  <tbody>\n",
        "    <tr>\n",
        "      <th>one</th>\n",
        "      <td> 0.203531</td>\n",
        "      <td> 0.325360</td>\n",
        "      <td> 0.894829</td>\n",
        "    </tr>\n",
        "    <tr>\n",
        "      <th>two</th>\n",
        "      <td> 0.930065</td>\n",
        "      <td> 0.301969</td>\n",
        "      <td> 0.094213</td>\n",
        "    </tr>\n",
        "    <tr>\n",
        "      <th>foo</th>\n",
        "      <td>      NaN</td>\n",
        "      <td>      NaN</td>\n",
        "      <td>      NaN</td>\n",
        "    </tr>\n",
        "  </tbody>\n",
        "</table>\n",
        "</div>"
       ],
       "metadata": {},
       "output_type": "pyout",
       "prompt_number": 33,
       "text": [
        "            a         b         c\n",
        "one  0.203531  0.325360  0.894829\n",
        "two  0.930065  0.301969  0.094213\n",
        "foo       NaN       NaN       NaN"
       ]
      }
     ],
     "prompt_number": 33
    },
    {
     "cell_type": "code",
     "collapsed": false,
     "input": [
      "new=mydf.set_index(['a','b'])"
     ],
     "language": "python",
     "metadata": {},
     "outputs": [],
     "prompt_number": 39
    },
    {
     "cell_type": "code",
     "collapsed": false,
     "input": [
      "new"
     ],
     "language": "python",
     "metadata": {},
     "outputs": [
      {
       "html": [
        "<div style=\"max-height:1000px;max-width:1500px;overflow:auto;\">\n",
        "<table border=\"1\" class=\"dataframe\">\n",
        "  <thead>\n",
        "    <tr style=\"text-align: right;\">\n",
        "      <th></th>\n",
        "      <th></th>\n",
        "      <th>c</th>\n",
        "    </tr>\n",
        "    <tr>\n",
        "      <th>a</th>\n",
        "      <th>b</th>\n",
        "      <th></th>\n",
        "    </tr>\n",
        "  </thead>\n",
        "  <tbody>\n",
        "    <tr>\n",
        "      <th>0.203531</th>\n",
        "      <th>0.325360</th>\n",
        "      <td> 0.894829</td>\n",
        "    </tr>\n",
        "    <tr>\n",
        "      <th>0.930065</th>\n",
        "      <th>0.301969</th>\n",
        "      <td> 0.094213</td>\n",
        "    </tr>\n",
        "    <tr>\n",
        "      <th>0.552838</th>\n",
        "      <th>0.409216</th>\n",
        "      <td> 0.199148</td>\n",
        "    </tr>\n",
        "    <tr>\n",
        "      <th>0.337302</th>\n",
        "      <th>0.878127</th>\n",
        "      <td> 0.169430</td>\n",
        "    </tr>\n",
        "    <tr>\n",
        "      <th>0.933750</th>\n",
        "      <th>0.463585</th>\n",
        "      <td> 0.178078</td>\n",
        "    </tr>\n",
        "  </tbody>\n",
        "</table>\n",
        "</div>"
       ],
       "metadata": {},
       "output_type": "pyout",
       "prompt_number": 40,
       "text": [
        "                          c\n",
        "a        b                 \n",
        "0.203531 0.325360  0.894829\n",
        "0.930065 0.301969  0.094213\n",
        "0.552838 0.409216  0.199148\n",
        "0.337302 0.878127  0.169430\n",
        "0.933750 0.463585  0.178078"
       ]
      }
     ],
     "prompt_number": 40
    },
    {
     "cell_type": "code",
     "collapsed": false,
     "input": [
      "new.c"
     ],
     "language": "python",
     "metadata": {},
     "outputs": [
      {
       "metadata": {},
       "output_type": "pyout",
       "prompt_number": 43,
       "text": [
        "a         b       \n",
        "0.203531  0.325360    0.894829\n",
        "0.930065  0.301969    0.094213\n",
        "0.552838  0.409216    0.199148\n",
        "0.337302  0.878127    0.169430\n",
        "0.933750  0.463585    0.178078\n",
        "Name: c, dtype: float64"
       ]
      }
     ],
     "prompt_number": 43
    },
    {
     "cell_type": "code",
     "collapsed": false,
     "input": [
      "new.c.index"
     ],
     "language": "python",
     "metadata": {},
     "outputs": [
      {
       "metadata": {},
       "output_type": "pyout",
       "prompt_number": 44,
       "text": [
        "MultiIndex\n",
        "[(0.203530610617, 0.325360113957), (0.930064690406, 0.301969403163), (0.55283776325, 0.409216039804), (0.337302151571, 0.878126881157), (0.933749916782, 0.463585284814)]"
       ]
      }
     ],
     "prompt_number": 44
    },
    {
     "cell_type": "code",
     "collapsed": false,
     "input": [
      "mydf.index = range(5)"
     ],
     "language": "python",
     "metadata": {},
     "outputs": [],
     "prompt_number": 47
    },
    {
     "cell_type": "code",
     "collapsed": false,
     "input": [
      "mydf"
     ],
     "language": "python",
     "metadata": {},
     "outputs": [
      {
       "html": [
        "<div style=\"max-height:1000px;max-width:1500px;overflow:auto;\">\n",
        "<table border=\"1\" class=\"dataframe\">\n",
        "  <thead>\n",
        "    <tr style=\"text-align: right;\">\n",
        "      <th></th>\n",
        "      <th>a</th>\n",
        "      <th>b</th>\n",
        "      <th>c</th>\n",
        "    </tr>\n",
        "  </thead>\n",
        "  <tbody>\n",
        "    <tr>\n",
        "      <th>0</th>\n",
        "      <td> 0.203531</td>\n",
        "      <td> 0.325360</td>\n",
        "      <td> 0.894829</td>\n",
        "    </tr>\n",
        "    <tr>\n",
        "      <th>1</th>\n",
        "      <td> 0.930065</td>\n",
        "      <td> 0.301969</td>\n",
        "      <td> 0.094213</td>\n",
        "    </tr>\n",
        "    <tr>\n",
        "      <th>2</th>\n",
        "      <td> 0.552838</td>\n",
        "      <td> 0.409216</td>\n",
        "      <td> 0.199148</td>\n",
        "    </tr>\n",
        "    <tr>\n",
        "      <th>3</th>\n",
        "      <td> 0.337302</td>\n",
        "      <td> 0.878127</td>\n",
        "      <td> 0.169430</td>\n",
        "    </tr>\n",
        "    <tr>\n",
        "      <th>4</th>\n",
        "      <td> 0.933750</td>\n",
        "      <td> 0.463585</td>\n",
        "      <td> 0.178078</td>\n",
        "    </tr>\n",
        "  </tbody>\n",
        "</table>\n",
        "</div>"
       ],
       "metadata": {},
       "output_type": "pyout",
       "prompt_number": 48,
       "text": [
        "          a         b         c\n",
        "0  0.203531  0.325360  0.894829\n",
        "1  0.930065  0.301969  0.094213\n",
        "2  0.552838  0.409216  0.199148\n",
        "3  0.337302  0.878127  0.169430\n",
        "4  0.933750  0.463585  0.178078"
       ]
      }
     ],
     "prompt_number": 48
    },
    {
     "cell_type": "code",
     "collapsed": false,
     "input": [],
     "language": "python",
     "metadata": {},
     "outputs": []
    }
   ],
   "metadata": {}
  }
 ]
}